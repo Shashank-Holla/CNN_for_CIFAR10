{
  "nbformat": 4,
  "nbformat_minor": 0,
  "metadata": {
    "kernelspec": {
      "name": "python3",
      "display_name": "Python 3"
    },
    "language_info": {
      "codemirror_mode": {
        "name": "ipython",
        "version": 3
      },
      "file_extension": ".py",
      "mimetype": "text/x-python",
      "name": "python",
      "nbconvert_exporter": "python",
      "pygments_lexer": "ipython3",
      "version": "3.6.6"
    },
    "colab": {
      "name": "S7.ipynb",
      "provenance": [],
      "collapsed_sections": [],
      "include_colab_link": true
    },
    "accelerator": "GPU"
  },
  "cells": [
    {
      "cell_type": "markdown",
      "metadata": {
        "id": "view-in-github",
        "colab_type": "text"
      },
      "source": [
        "<a href=\"https://colab.research.google.com/github/Shashank-Holla/CNN_for_CIFAR10/blob/master/S7.ipynb\" target=\"_parent\"><img src=\"https://colab.research.google.com/assets/colab-badge.svg\" alt=\"Open In Colab\"/></a>"
      ]
    },
    {
      "cell_type": "code",
      "metadata": {
        "id": "QVbdg0z4poCc",
        "colab_type": "code",
        "colab": {}
      },
      "source": [
        "%matplotlib inline"
      ],
      "execution_count": 0,
      "outputs": []
    },
    {
      "cell_type": "markdown",
      "metadata": {
        "id": "fPogbueepoCh",
        "colab_type": "text"
      },
      "source": [
        "\n",
        "Tracking the changes\n",
        "=====================\n",
        "1. C1C2C3C4-0. 3 convolution in each convolution layers. 1.9M parameters. Train/Test accuracy- 82%/77%\n",
        "2. C1C2C3C4-0. 2 convolution in each convolution layers. 1.2M parameters. Train/Test accuracy- 82%/76%\n",
        "3. C1C2C3C4-0. Removed 2nd 256 channel convolution 585K parameters. Train/Test accuracy- 82%/75%\n",
        "4. Seeing overfitting. Realized dropout was only 0.01. Bumped it to 0.1. No overfitting now. Train/test accuracy - 75%/73%.\n",
        "5. Replaced normal conv2d with 256 channels with 256 depthwise seperable convolution. Train/Test accuracy - 75%/72%.\n",
        "\n"
      ]
    },
    {
      "cell_type": "code",
      "metadata": {
        "id": "-yVpodAMpoCi",
        "colab_type": "code",
        "outputId": "0878fc4a-aae0-4b43-a540-b9eefbbcb429",
        "colab": {
          "base_uri": "https://localhost:8080/",
          "height": 34
        }
      },
      "source": [
        "import torch\n",
        "import torchvision\n",
        "import torchvision.transforms as transforms\n",
        "\n",
        "\n",
        "SEED = 1\n",
        "\n",
        "# CUDA?\n",
        "cuda = torch.cuda.is_available()\n",
        "print(\"CUDA Available?\", cuda)"
      ],
      "execution_count": 0,
      "outputs": [
        {
          "output_type": "stream",
          "text": [
            "CUDA Available? True\n"
          ],
          "name": "stdout"
        }
      ]
    },
    {
      "cell_type": "markdown",
      "metadata": {
        "id": "5kjt4e2TpoCk",
        "colab_type": "text"
      },
      "source": [
        "The output of torchvision datasets are PILImage images of range [0, 1].\n",
        "We transform them to Tensors of normalized range [-1, 1].\n",
        "\n"
      ]
    },
    {
      "cell_type": "code",
      "metadata": {
        "id": "D8Tjigo2poCl",
        "colab_type": "code",
        "outputId": "b9edd531-70af-44b4-ea58-df72d6373228",
        "colab": {
          "base_uri": "https://localhost:8080/",
          "height": 50
        }
      },
      "source": [
        "import torch\n",
        "import torchvision\n",
        "def transform():\n",
        "  transform = transforms.Compose(\n",
        "      [transforms.ToTensor(),\n",
        "      transforms.Normalize((0.5, 0.5, 0.5), (0.5, 0.5, 0.5))])\n",
        "\n",
        "  trainset = torchvision.datasets.CIFAR10(root='./data', train=True,\n",
        "                                          download=True, transform=transform)\n",
        "  trainloader = torch.utils.data.DataLoader(trainset, batch_size=4,\n",
        "                                            shuffle=True, num_workers=2)\n",
        "\n",
        "  testset = torchvision.datasets.CIFAR10(root='./data', train=False,\n",
        "                                        download=True, transform=transform)\n",
        "  testloader = torch.utils.data.DataLoader(testset, batch_size=4,\n",
        "                                          shuffle=False, num_workers=2)\n",
        "\n",
        "  classes = ('plane', 'car', 'bird', 'cat',\n",
        "            'deer', 'dog', 'frog', 'horse', 'ship', 'truck')\n",
        "  return trainloader, testloader, classes\n"
      ],
      "execution_count": 0,
      "outputs": [
        {
          "output_type": "stream",
          "text": [
            "Files already downloaded and verified\n",
            "Files already downloaded and verified\n"
          ],
          "name": "stdout"
        }
      ]
    },
    {
      "cell_type": "markdown",
      "metadata": {
        "id": "_cj433rtpoCn",
        "colab_type": "text"
      },
      "source": [
        "Let us show some of the training images, for fun.\n",
        "\n"
      ]
    },
    {
      "cell_type": "code",
      "metadata": {
        "id": "daA7bADhpoCo",
        "colab_type": "code",
        "outputId": "81f34e01-a02d-48d5-a623-08758884ae19",
        "colab": {
          "base_uri": "https://localhost:8080/",
          "height": 155
        }
      },
      "source": [
        "import matplotlib.pyplot as plt\n",
        "import numpy as np\n",
        "\n",
        "# functions to show an image\n",
        "\n",
        "\n",
        "def imshow(img):\n",
        "    img = img / 2 + 0.5     # unnormalize\n",
        "    npimg = img.numpy()\n",
        "    plt.imshow(np.transpose(npimg, (1, 2, 0)))\n",
        "\n",
        "\n",
        "# get some random training images\n",
        "dataiter = iter(trainloader)\n",
        "images, labels = dataiter.next()\n",
        "\n",
        "\n",
        "# show images\n",
        "imshow(torchvision.utils.make_grid(images))\n",
        "# print labels\n",
        "print(' '.join('%5s' % classes[labels[j]] for j in range(4)))"
      ],
      "execution_count": 0,
      "outputs": [
        {
          "output_type": "stream",
          "text": [
            " ship  ship  bird   car\n"
          ],
          "name": "stdout"
        },
        {
          "output_type": "display_data",
          "data": {
            "image/png": "[encoded data removed]",
            "text/plain": [
              "<Figure size 432x288 with 1 Axes>"
            ]
          },
          "metadata": {
            "tags": []
          }
        }
      ]
    },
    {
      "cell_type": "markdown",
      "metadata": {
        "id": "28OpHA_LpoCq",
        "colab_type": "text"
      },
      "source": [
        "2. Define a Convolution Neural Network\n",
        "^^^^^^^^^^^^^^^^^^^^^^^^^^^^^^^^^^^^^^\n",
        "Copy the neural network from the Neural Networks section before and modify it to\n",
        "take 3-channel images (instead of 1-channel images as it was defined).\n",
        "\n"
      ]
    },
    {
      "cell_type": "code",
      "metadata": {
        "id": "0jjLwLLQpoCr",
        "colab_type": "code",
        "outputId": "a96ffea6-da1c-47ab-9408-7019efcc9ccf",
        "colab": {
          "base_uri": "https://localhost:8080/",
          "height": 50
        }
      },
      "source": [
        "import torch.nn as nn\n",
        "import torch.nn.functional as F\n",
        "\n",
        "use_cuda = torch.cuda.is_available()\n",
        "device = torch.device(\"cuda\" if use_cuda else \"cpu\")\n",
        "print(device)\n",
        "\n",
        "dropout_value = 0.2\n",
        "class Net(nn.Module):\n",
        "    def __init__(self):\n",
        "        super(Net, self).__init__()\n",
        "        \n",
        "        # Image size = 32. RF = 1\n",
        "        #Convolution Layer-1\n",
        "        self.convblock1 = nn.Sequential(\n",
        "            nn.Conv2d(in_channels=3, out_channels=32, kernel_size=(3, 3), padding=1, bias=False), #Output size- 32. RF=3\n",
        "            nn.ReLU(),\n",
        "            nn.BatchNorm2d(32),\n",
        "            nn.Dropout(dropout_value),\n",
        "\n",
        "            nn.Conv2d(in_channels=32, out_channels=32, kernel_size=(3, 3), padding=1, bias=False), #Output size- 32. RF=5\n",
        "            nn.ReLU(),\n",
        "            nn.BatchNorm2d(32),\n",
        "            nn.Dropout(dropout_value)\n",
        "        ) \n",
        "\n",
        "        self.pool1 = nn.MaxPool2d(2, 2) # output_size = 16 RF = 6 Jout = 2\n",
        "\n",
        "        #Convolution Layer-2\n",
        "        self.convblock2 = nn.Sequential(\n",
        "            nn.Conv2d(in_channels=32, out_channels=64, kernel_size=(3, 3), padding=1, bias=False), #Output size- 16. RF=10\n",
        "            nn.ReLU(),\n",
        "            nn.BatchNorm2d(64),\n",
        "            nn.Dropout(dropout_value),\n",
        "\n",
        "            nn.Conv2d(in_channels=64, out_channels=64, kernel_size=(3, 3), padding=1, bias=False), #Output size- 16. RF=14\n",
        "            nn.ReLU(),\n",
        "            nn.BatchNorm2d(64),\n",
        "            nn.Dropout(dropout_value)\n",
        "        )\n",
        "\n",
        "        self.dilationblock1 = nn.Sequential(\n",
        "            nn.Conv2d(in_channels=64, out_channels=64, kernel_size=(3, 3), padding=2, dilation=2, bias=False), #Output size- 16. RF=22\n",
        "            nn.ReLU(),\n",
        "            nn.BatchNorm2d(64),\n",
        "            nn.Dropout(dropout_value)\n",
        "        ) \n",
        "\n",
        "        self.pool2 = nn.MaxPool2d(2, 2) # output_size = 8 RF = 24 Jout = 4\n",
        "\n",
        "        #Convolution Layer-3\n",
        "        self.convblock3 = nn.Sequential(\n",
        "            nn.Conv2d(in_channels=64, out_channels=128, kernel_size=(3, 3), padding=1, bias=False), #Output size- 8. RF=32\n",
        "            nn.ReLU(),\n",
        "            nn.BatchNorm2d(128),\n",
        "            nn.Dropout(dropout_value),\n",
        "\n",
        "            nn.Conv2d(in_channels=128, out_channels=128, kernel_size=(3, 3), padding=1, bias=False), #Output size- 8. RF=40\n",
        "            nn.ReLU(),\n",
        "            nn.BatchNorm2d(128),\n",
        "            nn.Dropout(dropout_value)\n",
        "        )\n",
        "\n",
        "        self.pool3 = nn.MaxPool2d(2, 2) # output_size = 4 RF = 44 Jout = 8\n",
        "\n",
        "        #Convolution Layer-4 294K parameters --> 32K\n",
        "        #Depthwise Seperable Convolution\n",
        "        self.DepthwiseSepConv = nn.Sequential(\n",
        "            # nn.Conv2d(in_channels=128, out_channels=256, kernel_size=(3, 3), padding=1, bias=False), \n",
        "            # nn.ReLU(),\n",
        "            # nn.BatchNorm2d(256),\n",
        "            # nn.Dropout(dropout_value)\n",
        "            \n",
        "            #Depthwise Convolution #Output size- 4. RF=60\n",
        "            nn.Conv2d(in_channels=128, out_channels=128, kernel_size=(3, 3), padding=1, groups = 128, bias=False),\n",
        "            #Pointwise Convolution\n",
        "            nn.Conv2d(in_channels=128, out_channels=256, kernel_size=(1, 1), bias=False),\n",
        "            nn.ReLU(),\n",
        "            nn.BatchNorm2d(256),\n",
        "            nn.Dropout(dropout_value)\n",
        "        )\n",
        "\n",
        "        # OUTPUT BLOCK\n",
        "        self.gap = nn.Sequential(\n",
        "            nn.AvgPool2d(kernel_size=4)\n",
        "        ) # output_size = 1\n",
        "\n",
        "        #Convolution Block-5\n",
        "        self.convblock5 = nn.Sequential(\n",
        "            nn.Conv2d(in_channels=256, out_channels=10, kernel_size=(1, 1), padding=0, bias=False),\n",
        "            # nn.BatchNorm2d(10),\n",
        "            # nn.ReLU(),\n",
        "            # nn.Dropout(dropout_value)\n",
        "        ) \n",
        "\n",
        "\n",
        "    def forward(self, x):\n",
        "        x = self.convblock1(x)\n",
        "        x = self.pool1(x)\n",
        "        x = self.convblock2(x)\n",
        "        x = self.dilationblock1(x)\n",
        "        x = self.pool2(x)\n",
        "        x = self.convblock3(x)\n",
        "        x = self.pool3(x)\n",
        "        x = self.DepthwiseSepConv(x)\n",
        "        x = self.gap(x)\n",
        "        x = self.convblock5(x)\n",
        "        #print(\"Dimension of x\",x.shape)\n",
        "        x = x.view(-1, 10)\n",
        "        return x\n",
        "\n",
        "\n",
        "net = Net().to(device)\n",
        "print(next(net.parameters()).is_cuda)"
      ],
      "execution_count": 0,
      "outputs": [
        {
          "output_type": "stream",
          "text": [
            "cuda\n",
            "True\n"
          ],
          "name": "stdout"
        }
      ]
    },
    {
      "cell_type": "code",
      "metadata": {
        "id": "0ADqWEEFG2iX",
        "colab_type": "code",
        "outputId": "31a9049d-caa2-48f6-cc89-04abd31393c3",
        "colab": {
          "base_uri": "https://localhost:8080/",
          "height": 874
        }
      },
      "source": [
        "from torchsummary import summary\n",
        "\n",
        "summary(net, input_size=(3, 32, 32))"
      ],
      "execution_count": 0,
      "outputs": [
        {
          "output_type": "stream",
          "text": [
            "----------------------------------------------------------------\n",
            "        Layer (type)               Output Shape         Param #\n",
            "================================================================\n",
            "            Conv2d-1           [-1, 32, 32, 32]             864\n",
            "              ReLU-2           [-1, 32, 32, 32]               0\n",
            "       BatchNorm2d-3           [-1, 32, 32, 32]              64\n",
            "           Dropout-4           [-1, 32, 32, 32]               0\n",
            "            Conv2d-5           [-1, 32, 32, 32]           9,216\n",
            "              ReLU-6           [-1, 32, 32, 32]               0\n",
            "       BatchNorm2d-7           [-1, 32, 32, 32]              64\n",
            "           Dropout-8           [-1, 32, 32, 32]               0\n",
            "         MaxPool2d-9           [-1, 32, 16, 16]               0\n",
            "           Conv2d-10           [-1, 64, 16, 16]          18,432\n",
            "             ReLU-11           [-1, 64, 16, 16]               0\n",
            "      BatchNorm2d-12           [-1, 64, 16, 16]             128\n",
            "          Dropout-13           [-1, 64, 16, 16]               0\n",
            "           Conv2d-14           [-1, 64, 16, 16]          36,864\n",
            "             ReLU-15           [-1, 64, 16, 16]               0\n",
            "      BatchNorm2d-16           [-1, 64, 16, 16]             128\n",
            "          Dropout-17           [-1, 64, 16, 16]               0\n",
            "           Conv2d-18           [-1, 64, 16, 16]          36,864\n",
            "             ReLU-19           [-1, 64, 16, 16]               0\n",
            "      BatchNorm2d-20           [-1, 64, 16, 16]             128\n",
            "          Dropout-21           [-1, 64, 16, 16]               0\n",
            "        MaxPool2d-22             [-1, 64, 8, 8]               0\n",
            "           Conv2d-23            [-1, 128, 8, 8]          73,728\n",
            "             ReLU-24            [-1, 128, 8, 8]               0\n",
            "      BatchNorm2d-25            [-1, 128, 8, 8]             256\n",
            "          Dropout-26            [-1, 128, 8, 8]               0\n",
            "           Conv2d-27            [-1, 128, 8, 8]         147,456\n",
            "             ReLU-28            [-1, 128, 8, 8]               0\n",
            "      BatchNorm2d-29            [-1, 128, 8, 8]             256\n",
            "          Dropout-30            [-1, 128, 8, 8]               0\n",
            "        MaxPool2d-31            [-1, 128, 4, 4]               0\n",
            "           Conv2d-32            [-1, 128, 4, 4]           1,152\n",
            "           Conv2d-33            [-1, 256, 4, 4]          32,768\n",
            "             ReLU-34            [-1, 256, 4, 4]               0\n",
            "      BatchNorm2d-35            [-1, 256, 4, 4]             512\n",
            "          Dropout-36            [-1, 256, 4, 4]               0\n",
            "        AvgPool2d-37            [-1, 256, 1, 1]               0\n",
            "           Conv2d-38             [-1, 10, 1, 1]           2,560\n",
            "================================================================\n",
            "Total params: 361,440\n",
            "Trainable params: 361,440\n",
            "Non-trainable params: 0\n",
            "----------------------------------------------------------------\n",
            "Input size (MB): 0.01\n",
            "Forward/backward pass size (MB): 4.25\n",
            "Params size (MB): 1.38\n",
            "Estimated Total Size (MB): 5.64\n",
            "----------------------------------------------------------------\n"
          ],
          "name": "stdout"
        }
      ]
    },
    {
      "cell_type": "markdown",
      "metadata": {
        "id": "Wdw2NNCUpoCu",
        "colab_type": "text"
      },
      "source": [
        "3. Define a Loss function and optimizer\n",
        "^^^^^^^^^^^^^^^^^^^^^^^^^^^^^^^^^^^^^^^\n",
        "Let's use a Classification Cross-Entropy loss and SGD with momentum.\n",
        "\n"
      ]
    },
    {
      "cell_type": "code",
      "metadata": {
        "id": "M4xBbDROpoCv",
        "colab_type": "code",
        "colab": {}
      },
      "source": [
        ""
      ],
      "execution_count": 0,
      "outputs": []
    },
    {
      "cell_type": "markdown",
      "metadata": {
        "id": "O-odOrhdpoC2",
        "colab_type": "text"
      },
      "source": [
        "4. Train the network\n",
        "^^^^^^^^^^^^^^^^^^^^\n",
        "\n",
        "This is when things start to get interesting.\n",
        "We simply have to loop over our data iterator, and feed the inputs to the\n",
        "network and optimize.\n",
        "\n"
      ]
    },
    {
      "cell_type": "code",
      "metadata": {
        "id": "kkuRfo1IpoC3",
        "colab_type": "code",
        "colab": {}
      },
      "source": [
        "#Training the model.\n",
        "def train(net, device, trainloader, optimizer, criterion):\n",
        "    net.train()  \n",
        "    running_loss = 0.0\n",
        "    epoch_train_loss = 0.0\n",
        "    epoch_train_accuracy = 0\n",
        "    correct = 0\n",
        "    processed = 0\n",
        "    for i, data in enumerate(trainloader, 0):\n",
        "        # get the inputs. Data is not on cuda. Move it. Number of images, labels per iteration = batch size in transform\n",
        "        inputs, labels = data\n",
        "              \n",
        "        inputs = inputs.to(device)\n",
        "        labels = labels.to(device)\n",
        "\n",
        "        # zero the parameter gradients\n",
        "        optimizer.zero_grad() \n",
        "\n",
        "        # forward + backward + optimize\n",
        "        outputs = net(inputs)\n",
        "        loss = criterion(outputs, labels) #Loss calculation is on cuda\n",
        "        loss.backward()\n",
        "        optimizer.step()\n",
        "\n",
        "        #Accuracy calculation\n",
        "        pred = outputs.argmax(dim=1, keepdim=True)\n",
        "        correct += pred.eq(labels.view_as(pred)).sum().item()\n",
        "        processed += len(inputs)\n",
        "        \n",
        "\n",
        "        # print statistics\n",
        "        running_loss += loss.item()\n",
        "        epoch_train_loss += loss.item()\n",
        "        if i % 2000 == 1999:    # print every 2000 mini-batches\n",
        "            print('[%d, %5d] loss: %.3f' %\n",
        "                  (epoch + 1, i + 1, running_loss / 2000))\n",
        "            running_loss = 0.0\n",
        "\n",
        "    # print(\"Number of correct\",correct,\"\\nTotal:\",processed)    \n",
        "    epoch_train_accuracy=(100*correct/processed)\n",
        "    # print(\"Accuracy=\",epoch_train_accuracy)\n",
        "    epoch_train_loss /= i\n",
        "    # print(\"Total loss for epoch: \",i, \"is\", epoch_train_loss)\n",
        "\n",
        "    # print('Finished Training')\n",
        "    \n",
        "    return epoch_train_accuracy, epoch_train_loss"
      ],
      "execution_count": 0,
      "outputs": []
    },
    {
      "cell_type": "markdown",
      "metadata": {
        "id": "YLrvL_fHpoC5",
        "colab_type": "text"
      },
      "source": [
        "5. Test the network on the test data\n",
        "^^^^^^^^^^^^^^^^^^^^^^^^^^^^^^^^^^^^\n",
        "\n",
        "We have trained the network for 2 passes over the training dataset.\n",
        "But we need to check if the network has learnt anything at all.\n",
        "\n",
        "We will check this by predicting the class label that the neural network\n",
        "outputs, and checking it against the ground-truth. If the prediction is\n",
        "correct, we add the sample to the list of correct predictions.\n",
        "\n",
        "Okay, first step. Let us display an image from the test set to get familiar.\n",
        "\n"
      ]
    },
    {
      "cell_type": "code",
      "metadata": {
        "id": "nizbsvw9poC6",
        "colab_type": "code",
        "outputId": "0dfcdf71-5b91-4bae-b1e2-37fa9a9dab01",
        "colab": {
          "base_uri": "https://localhost:8080/",
          "height": 155
        }
      },
      "source": [
        "dataiter = iter(testloader)\n",
        "images, labels = dataiter.next()\n",
        "\n",
        "# print images\n",
        "imshow(torchvision.utils.make_grid(images))\n",
        "print('GroundTruth: ', ' '.join('%5s' % classes[labels[j]] for j in range(4)))"
      ],
      "execution_count": 0,
      "outputs": [
        {
          "output_type": "stream",
          "text": [
            "GroundTruth:    cat  ship  ship plane\n"
          ],
          "name": "stdout"
        },
        {
          "output_type": "display_data",
          "data": {
            "image/png": "[encoded data removed]",
            "text/plain": [
              "<Figure size 432x288 with 1 Axes>"
            ]
          },
          "metadata": {
            "tags": []
          }
        }
      ]
    },
    {
      "cell_type": "markdown",
      "metadata": {
        "id": "DAx4QPHVpoC8",
        "colab_type": "text"
      },
      "source": [
        "Okay, now let us see what the neural network thinks these examples above are:\n",
        "\n"
      ]
    },
    {
      "cell_type": "code",
      "metadata": {
        "id": "HVLjlssWpoC9",
        "colab_type": "code",
        "colab": {}
      },
      "source": [
        "images = images.to(device)\n",
        "outputs = net(images)"
      ],
      "execution_count": 0,
      "outputs": []
    },
    {
      "cell_type": "markdown",
      "metadata": {
        "id": "u8OTHZEApoC_",
        "colab_type": "text"
      },
      "source": [
        "The outputs are energies for the 10 classes.\n",
        "Higher the energy for a class, the more the network\n",
        "thinks that the image is of the particular class.\n",
        "So, let's get the index of the highest energy:\n",
        "\n"
      ]
    },
    {
      "cell_type": "code",
      "metadata": {
        "id": "ABRIDW3lpoDA",
        "colab_type": "code",
        "outputId": "55d696b2-20f4-4ea2-bf54-79c6574dbd7c",
        "colab": {
          "base_uri": "https://localhost:8080/",
          "height": 34
        }
      },
      "source": [
        "_, predicted = torch.max(outputs, 1)\n",
        "\n",
        "print('Predicted: ', ' '.join('%5s' % classes[predicted[j]]\n",
        "                              for j in range(4)))"
      ],
      "execution_count": 0,
      "outputs": [
        {
          "output_type": "stream",
          "text": [
            "Predicted:    car plane truck truck\n"
          ],
          "name": "stdout"
        }
      ]
    },
    {
      "cell_type": "markdown",
      "metadata": {
        "id": "2TV0TXL1poDC",
        "colab_type": "text"
      },
      "source": [
        "The results seem pretty good.\n",
        "\n",
        "Let us look at how the network performs on the whole dataset.\n",
        "\n"
      ]
    },
    {
      "cell_type": "code",
      "metadata": {
        "id": "SZ4-5CESpoDD",
        "colab_type": "code",
        "colab": {}
      },
      "source": [
        "# Test model\n",
        "def test(net, device, testloader, criterion): \n",
        "  correct = 0\n",
        "  total = 0\n",
        "  epoch_test_loss = 0.0\n",
        "  epoch_test_accuracy = 0\n",
        "  with torch.no_grad():\n",
        "      for data in testloader:\n",
        "          images, labels = data\n",
        "          images = images.to(device)\n",
        "          labels = labels.to(device)\n",
        "          outputs = net(images)\n",
        "\n",
        "          epoch_test_loss += criterion(outputs, labels)\n",
        "          _, predicted = torch.max(outputs.data, 1)\n",
        "          total += labels.size(0)\n",
        "          correct += (predicted == labels).sum().item()\n",
        "          epoch_test_accuracy = (100 * correct / total)\n",
        "  epoch_test_loss /= len(testloader)\n",
        "  # print(\"Test loss=\",epoch_test_loss)\n",
        "  # print('Accuracy of the network on the 10000 test images: %d %%' %epoch_test_accuracy)\n",
        "  return epoch_test_accuracy, epoch_test_loss.cpu().numpy()"
      ],
      "execution_count": 0,
      "outputs": []
    },
    {
      "cell_type": "markdown",
      "metadata": {
        "id": "y5tOdw0Da1wk",
        "colab_type": "text"
      },
      "source": [
        "This is to call the test and train modules."
      ]
    },
    {
      "cell_type": "code",
      "metadata": {
        "id": "Tf39p5iaStsD",
        "colab_type": "code",
        "colab": {}
      },
      "source": [
        "def train_test_metrics_graph(train_accuracy, train_loss, test_accuracy, test_loss):\n",
        "  %matplotlib inline\n",
        "  fig, axs = plt.subplots(1,2,figsize=(15,10))\n",
        "  axs[0].set_title(\"Accuracy\")\n",
        "  axs[0].plot(train_accuracy, label = \"train_accuracy\")\n",
        "  axs[0].plot(test_accuracy, label = \"test accuracy\")\n",
        "  axs[0].set_xlabel(\"Epoch\")\n",
        "  axs[0].set_ylabel(\"Accuracy\")\n",
        "  axs[0].legend(loc=\"best\")\n",
        "\n",
        "  axs[1].set_title(\"Loss\")\n",
        "  axs[1].plot(train_loss, label = \"train loss\")\n",
        "  axs[1].plot(test_loss, label = \"test loss\")\n",
        "  axs[1].set_xlabel(\"Epoch\")\n",
        "  axs[1].set_ylabel(\"Loss\")\n",
        "  axs[1].legend(loc=\"best\")"
      ],
      "execution_count": 0,
      "outputs": []
    },
    {
      "cell_type": "code",
      "metadata": {
        "id": "n9eGvLDWa0nV",
        "colab_type": "code",
        "outputId": "31be7656-294e-4ff9-edf0-9bd059f3eafa",
        "colab": {
          "base_uri": "https://localhost:8080/",
          "height": 1000
        }
      },
      "source": [
        "import torch.optim as optim\n",
        "EPOCHS =10\n",
        "train_accuracy = []\n",
        "test_accuracy = []\n",
        "train_loss = []\n",
        "test_loss = []\n",
        "\n",
        "net = Net().to(device)\n",
        "criterion = nn.CrossEntropyLoss()\n",
        "optimizer = optim.SGD(net.parameters(), lr=0.001, momentum=0.9, weight_decay=0.0001)\n",
        "\n",
        "for epoch in range(EPOCHS):\n",
        "  print(\"epoch:\", epoch)\n",
        "  train_accuracy_delta, train_loss_delta = train(net, device, trainloader, optimizer,criterion)\n",
        "  test_accuracy_delta, test_loss_delta = test(net, device, testloader,criterion)\n",
        "  train_accuracy.append(train_accuracy_delta)\n",
        "  train_loss.append(train_loss_delta)\n",
        "  test_accuracy.append(test_accuracy_delta)\n",
        "  test_loss.append(test_loss_delta)\n"
      ],
      "execution_count": 0,
      "outputs": [
        {
          "output_type": "stream",
          "text": [
            "epoch: 0\n",
            "[1,  2000] loss: 1.888\n",
            "[1,  4000] loss: 1.656\n",
            "[1,  6000] loss: 1.534\n",
            "[1,  8000] loss: 1.427\n",
            "[1, 10000] loss: 1.374\n",
            "[1, 12000] loss: 1.312\n",
            "epoch: 1\n",
            "[2,  2000] loss: 1.256\n",
            "[2,  4000] loss: 1.205\n",
            "[2,  6000] loss: 1.151\n",
            "[2,  8000] loss: 1.161\n",
            "[2, 10000] loss: 1.102\n",
            "[2, 12000] loss: 1.084\n",
            "epoch: 2\n",
            "[3,  2000] loss: 1.035\n",
            "[3,  4000] loss: 1.015\n",
            "[3,  6000] loss: 1.015\n",
            "[3,  8000] loss: 0.995\n",
            "[3, 10000] loss: 0.985\n",
            "[3, 12000] loss: 0.980\n",
            "epoch: 3\n",
            "[4,  2000] loss: 0.939\n",
            "[4,  4000] loss: 0.947\n",
            "[4,  6000] loss: 0.926\n",
            "[4,  8000] loss: 0.908\n",
            "[4, 10000] loss: 0.907\n",
            "[4, 12000] loss: 0.899\n",
            "epoch: 4\n",
            "[5,  2000] loss: 0.854\n",
            "[5,  4000] loss: 0.854\n",
            "[5,  6000] loss: 0.862\n",
            "[5,  8000] loss: 0.843\n",
            "[5, 10000] loss: 0.853\n",
            "[5, 12000] loss: 0.842\n",
            "epoch: 5\n",
            "[6,  2000] loss: 0.830\n",
            "[6,  4000] loss: 0.807\n",
            "[6,  6000] loss: 0.809\n",
            "[6,  8000] loss: 0.801\n",
            "[6, 10000] loss: 0.801\n",
            "[6, 12000] loss: 0.831\n",
            "epoch: 6\n",
            "[7,  2000] loss: 0.748\n",
            "[7,  4000] loss: 0.770\n",
            "[7,  6000] loss: 0.779\n",
            "[7,  8000] loss: 0.764\n",
            "[7, 10000] loss: 0.765\n",
            "[7, 12000] loss: 0.770\n",
            "epoch: 7\n",
            "[8,  2000] loss: 0.727\n",
            "[8,  4000] loss: 0.730\n",
            "[8,  6000] loss: 0.737\n",
            "[8,  8000] loss: 0.753\n",
            "[8, 10000] loss: 0.741\n",
            "[8, 12000] loss: 0.748\n",
            "epoch: 8\n",
            "[9,  2000] loss: 0.704\n",
            "[9,  4000] loss: 0.706\n",
            "[9,  6000] loss: 0.696\n",
            "[9,  8000] loss: 0.727\n",
            "[9, 10000] loss: 0.702\n",
            "[9, 12000] loss: 0.720\n",
            "epoch: 9\n",
            "[10,  2000] loss: 0.658\n",
            "[10,  4000] loss: 0.681\n",
            "[10,  6000] loss: 0.667\n",
            "[10,  8000] loss: 0.692\n",
            "[10, 10000] loss: 0.689\n",
            "[10, 12000] loss: 0.700\n"
          ],
          "name": "stdout"
        }
      ]
    },
    {
      "cell_type": "code",
      "metadata": {
        "id": "oVEUxg_dRPCq",
        "colab_type": "code",
        "outputId": "7b7a22b7-c350-47ef-8709-5bb3c26e2e3c",
        "colab": {
          "base_uri": "https://localhost:8080/",
          "height": 708
        }
      },
      "source": [
        "print(train_accuracy)\n",
        "print(test_accuracy)\n",
        "\n",
        "print(train_loss)\n",
        "print(test_loss)\n",
        "train_test_metrics_graph(train_accuracy, train_loss, test_accuracy, test_loss)"
      ],
      "execution_count": 0,
      "outputs": [
        {
          "output_type": "stream",
          "text": [
            "[46.13, 61.01, 66.632, 69.724, 72.208, 73.594, 74.852, 76.09, 76.788, 77.788]\n",
            "[55.83, 64.73, 67.68, 69.85, 71.07, 72.65, 73.01, 73.96, 75.4, 75.07]\n",
            "[1.5207038654647966, 1.1561938570407746, 1.0020633858054606, 0.9188085280806458, 0.8489144098468757, 0.8110311741313512, 0.7660452183847171, 0.7392366501376842, 0.7074851338549016, 0.6818603500026409]\n",
            "[array(1.2817028, dtype=float32), array(1.0667663, dtype=float32), array(0.9770525, dtype=float32), array(0.9168547, dtype=float32), array(0.8873915, dtype=float32), array(0.832963, dtype=float32), array(0.8272867, dtype=float32), array(0.79676557, dtype=float32), array(0.76082855, dtype=float32), array(0.7734726, dtype=float32)]\n"
          ],
          "name": "stdout"
        },
        {
          "output_type": "display_data",
          "data": {
            "image/png": "[encoded data removed]",
            "text/plain": [
              "<Figure size 1080x720 with 2 Axes>"
            ]
          },
          "metadata": {
            "tags": []
          }
        }
      ]
    },
    {
      "cell_type": "markdown",
      "metadata": {
        "id": "eDdwPBl8poDF",
        "colab_type": "text"
      },
      "source": [
        "That looks waaay better than chance, which is 10% accuracy (randomly picking\n",
        "a class out of 10 classes).\n",
        "Seems like the network learnt something.\n",
        "\n",
        "Hmmm, what are the classes that performed well, and the classes that did\n",
        "not perform well:\n",
        "\n"
      ]
    },
    {
      "cell_type": "code",
      "metadata": {
        "id": "pDNFuDEDpoDG",
        "colab_type": "code",
        "outputId": "ae947ec7-2e52-4fe0-bc58-490b917a0a40",
        "colab": {
          "base_uri": "https://localhost:8080/",
          "height": 185
        }
      },
      "source": [
        "class_correct = list(0. for i in range(10))\n",
        "class_total = list(0. for i in range(10))\n",
        "with torch.no_grad():\n",
        "    for data in testloader:\n",
        "        images, labels = data\n",
        "        images = images.to(device)\n",
        "        labels = labels.to(device)\n",
        "        outputs = net(images)\n",
        "        _, predicted = torch.max(outputs, 1)\n",
        "        c = (predicted == labels).squeeze()\n",
        "        for i in range(4):\n",
        "            label = labels[i]\n",
        "            class_correct[label] += c[i].item()\n",
        "            class_total[label] += 1\n",
        "\n",
        "\n",
        "for i in range(10):\n",
        "    print('Accuracy of %5s : %2d %%' % (\n",
        "        classes[i], 100 * class_correct[i] / class_total[i]))"
      ],
      "execution_count": 0,
      "outputs": [
        {
          "output_type": "stream",
          "text": [
            "Accuracy of plane : 78 %\n",
            "Accuracy of   car : 89 %\n",
            "Accuracy of  bird : 64 %\n",
            "Accuracy of   cat : 55 %\n",
            "Accuracy of  deer : 72 %\n",
            "Accuracy of   dog : 65 %\n",
            "Accuracy of  frog : 79 %\n",
            "Accuracy of horse : 78 %\n",
            "Accuracy of  ship : 84 %\n",
            "Accuracy of truck : 84 %\n"
          ],
          "name": "stdout"
        }
      ]
    },
    {
      "cell_type": "markdown",
      "metadata": {
        "id": "9pMHdwXcSuYf",
        "colab_type": "text"
      },
      "source": [
        "To chart accuracy and Loss of test and train."
      ]
    }
  ]
}