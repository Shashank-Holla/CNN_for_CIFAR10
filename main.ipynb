{
  "nbformat": 4,
  "nbformat_minor": 0,
  "metadata": {
    "colab": {
      "name": "main.ipynb",
      "provenance": [],
      "collapsed_sections": [],
      "authorship_tag": "ABX9TyPETVuVkz0mOaPpLyTAiHUQ",
      "include_colab_link": true
    },
    "kernelspec": {
      "name": "python3",
      "display_name": "Python 3"
    },
    "accelerator": "GPU"
  },
  "cells": [
    {
      "cell_type": "markdown",
      "metadata": {
        "id": "view-in-github",
        "colab_type": "text"
      },
      "source": [
        "<a href=\"https://colab.research.google.com/github/Shashank-Holla/CNN_for_CIFAR10/blob/master/main.ipynb\" target=\"_parent\"><img src=\"https://colab.research.google.com/assets/colab-badge.svg\" alt=\"Open In Colab\"/></a>"
      ]
    },
    {
      "cell_type": "code",
      "metadata": {
        "id": "mMvVi157t3Fz",
        "colab_type": "code",
        "outputId": "64b25909-d16f-4ae3-a4a4-7b597d717d74",
        "colab": {
          "base_uri": "https://localhost:8080/",
          "height": 34
        }
      },
      "source": [
        "from google.colab import drive\n",
        "drive.mount('/gdrive')"
      ],
      "execution_count": 1,
      "outputs": [
        {
          "output_type": "stream",
          "text": [
            "Drive already mounted at /gdrive; to attempt to forcibly remount, call drive.mount(\"/gdrive\", force_remount=True).\n"
          ],
          "name": "stdout"
        }
      ]
    },
    {
      "cell_type": "code",
      "metadata": {
        "id": "fmuR1TXQvz9k",
        "colab_type": "code",
        "outputId": "d00835a0-e4ca-46ac-c440-0d2bda0609f0",
        "colab": {
          "base_uri": "https://localhost:8080/",
          "height": 34
        }
      },
      "source": [
        "cd '/gdrive/My Drive/Colab Notebooks/SchoolOfAI/Session7_CIFAR/cnn_for_cifar10/'"
      ],
      "execution_count": 2,
      "outputs": [
        {
          "output_type": "stream",
          "text": [
            "/gdrive/My Drive/Colab Notebooks/SchoolOfAI/Session7_CIFAR/cnn_for_cifar10\n"
          ],
          "name": "stdout"
        }
      ]
    },
    {
      "cell_type": "code",
      "metadata": {
        "id": "-bHU00OwwFp7",
        "colab_type": "code",
        "outputId": "70da6678-ba51-4411-c045-206b05e62b0e",
        "colab": {
          "base_uri": "https://localhost:8080/",
          "height": 101
        }
      },
      "source": [
        "ls"
      ],
      "execution_count": 3,
      "outputs": [
        {
          "output_type": "stream",
          "text": [
            "\u001b[0m\u001b[01;34mdata\u001b[0m/                                  main.ipynb    train.py\n",
            "Execute.ipynb                          metrics.py    transform_albumentation.py\n",
            "GraphsForLearning.ipynb                \u001b[01;34mmodels\u001b[0m/       Transform_Filecall.ipynb\n",
            "ImageAugmentation_Albumentation.ipynb  \u001b[01;34m__pycache__\u001b[0m/  transform.py\n",
            "mainfile.py                            test.py\n"
          ],
          "name": "stdout"
        }
      ]
    },
    {
      "cell_type": "code",
      "metadata": {
        "id": "Zk5l5SjUvDbe",
        "colab_type": "code",
        "outputId": "334cf48b-4854-4ba8-e5b2-842e4984bcbb",
        "colab": {
          "base_uri": "https://localhost:8080/",
          "height": 591
        }
      },
      "source": [
        "#import all necessary .py files\n",
        "import torch\n",
        "import torch.nn as nn\n",
        "import torch.optim as optim\n",
        "from torchsummary import summary\n",
        "!pip install -U git+https://github.com/albu/albumentations --no-cache-dir\n",
        "\n",
        "from train import train\n",
        "from test import test\n",
        "from metrics import train_test_metrics_graph\n",
        "\n",
        "#Torchvision transforms\n",
        "#from transform import transform\n",
        "#Albumentations transform\n",
        "from transform_albumentation import transform\n",
        "from models import *\n",
        "from gradcam import *"
      ],
      "execution_count": 4,
      "outputs": [
        {
          "output_type": "stream",
          "text": [
            "Collecting git+https://github.com/albu/albumentations\n",
            "  Cloning https://github.com/albu/albumentations to /tmp/pip-req-build-f07qasjv\n",
            "  Running command git clone -q https://github.com/albu/albumentations /tmp/pip-req-build-f07qasjv\n",
            "Requirement already satisfied, skipping upgrade: numpy>=1.11.1 in /usr/local/lib/python3.6/dist-packages (from albumentations==0.4.5) (1.18.1)\n",
            "Requirement already satisfied, skipping upgrade: scipy in /usr/local/lib/python3.6/dist-packages (from albumentations==0.4.5) (1.4.1)\n",
            "Requirement already satisfied, skipping upgrade: imgaug<0.2.7,>=0.2.5 in /usr/local/lib/python3.6/dist-packages (from albumentations==0.4.5) (0.2.6)\n",
            "Requirement already satisfied, skipping upgrade: PyYAML in /usr/local/lib/python3.6/dist-packages (from albumentations==0.4.5) (3.13)\n",
            "Requirement already satisfied, skipping upgrade: opencv-python>=4.1.1 in /usr/local/lib/python3.6/dist-packages (from albumentations==0.4.5) (4.1.2.30)\n",
            "Requirement already satisfied, skipping upgrade: scikit-image>=0.11.0 in /usr/local/lib/python3.6/dist-packages (from imgaug<0.2.7,>=0.2.5->albumentations==0.4.5) (0.16.2)\n",
            "Requirement already satisfied, skipping upgrade: six in /usr/local/lib/python3.6/dist-packages (from imgaug<0.2.7,>=0.2.5->albumentations==0.4.5) (1.12.0)\n",
            "Requirement already satisfied, skipping upgrade: pillow>=4.3.0 in /usr/local/lib/python3.6/dist-packages (from scikit-image>=0.11.0->imgaug<0.2.7,>=0.2.5->albumentations==0.4.5) (7.0.0)\n",
            "Requirement already satisfied, skipping upgrade: PyWavelets>=0.4.0 in /usr/local/lib/python3.6/dist-packages (from scikit-image>=0.11.0->imgaug<0.2.7,>=0.2.5->albumentations==0.4.5) (1.1.1)\n",
            "Requirement already satisfied, skipping upgrade: matplotlib!=3.0.0,>=2.0.0 in /usr/local/lib/python3.6/dist-packages (from scikit-image>=0.11.0->imgaug<0.2.7,>=0.2.5->albumentations==0.4.5) (3.2.0)\n",
            "Requirement already satisfied, skipping upgrade: imageio>=2.3.0 in /usr/local/lib/python3.6/dist-packages (from scikit-image>=0.11.0->imgaug<0.2.7,>=0.2.5->albumentations==0.4.5) (2.4.1)\n",
            "Requirement already satisfied, skipping upgrade: networkx>=2.0 in /usr/local/lib/python3.6/dist-packages (from scikit-image>=0.11.0->imgaug<0.2.7,>=0.2.5->albumentations==0.4.5) (2.4)\n",
            "Requirement already satisfied, skipping upgrade: pyparsing!=2.0.4,!=2.1.2,!=2.1.6,>=2.0.1 in /usr/local/lib/python3.6/dist-packages (from matplotlib!=3.0.0,>=2.0.0->scikit-image>=0.11.0->imgaug<0.2.7,>=0.2.5->albumentations==0.4.5) (2.4.6)\n",
            "Requirement already satisfied, skipping upgrade: kiwisolver>=1.0.1 in /usr/local/lib/python3.6/dist-packages (from matplotlib!=3.0.0,>=2.0.0->scikit-image>=0.11.0->imgaug<0.2.7,>=0.2.5->albumentations==0.4.5) (1.1.0)\n",
            "Requirement already satisfied, skipping upgrade: python-dateutil>=2.1 in /usr/local/lib/python3.6/dist-packages (from matplotlib!=3.0.0,>=2.0.0->scikit-image>=0.11.0->imgaug<0.2.7,>=0.2.5->albumentations==0.4.5) (2.8.1)\n",
            "Requirement already satisfied, skipping upgrade: cycler>=0.10 in /usr/local/lib/python3.6/dist-packages (from matplotlib!=3.0.0,>=2.0.0->scikit-image>=0.11.0->imgaug<0.2.7,>=0.2.5->albumentations==0.4.5) (0.10.0)\n",
            "Requirement already satisfied, skipping upgrade: decorator>=4.3.0 in /usr/local/lib/python3.6/dist-packages (from networkx>=2.0->scikit-image>=0.11.0->imgaug<0.2.7,>=0.2.5->albumentations==0.4.5) (4.4.2)\n",
            "Requirement already satisfied, skipping upgrade: setuptools in /usr/local/lib/python3.6/dist-packages (from kiwisolver>=1.0.1->matplotlib!=3.0.0,>=2.0.0->scikit-image>=0.11.0->imgaug<0.2.7,>=0.2.5->albumentations==0.4.5) (45.2.0)\n",
            "Building wheels for collected packages: albumentations\n",
            "  Building wheel for albumentations (setup.py) ... \u001b[?25l\u001b[?25hdone\n",
            "  Created wheel for albumentations: filename=albumentations-0.4.5-cp36-none-any.whl size=64514 sha256=ddac1f77994587b80ccdfd07b1efef84c5cf78390b2a14d63acb8b507a8eb77c\n",
            "  Stored in directory: /tmp/pip-ephem-wheel-cache-yxgb835r/wheels/45/8b/e4/2837bbcf517d00732b8e394f8646f22b8723ac00993230188b\n",
            "Successfully built albumentations\n",
            "Installing collected packages: albumentations\n",
            "  Found existing installation: albumentations 0.4.5\n",
            "    Uninstalling albumentations-0.4.5:\n",
            "      Successfully uninstalled albumentations-0.4.5\n",
            "Successfully installed albumentations-0.4.5\n",
            "Albumentations version: 0.4.5\n",
            "Resnet18 model\n"
          ],
          "name": "stdout"
        }
      ]
    },
    {
      "cell_type": "code",
      "metadata": {
        "id": "bbASJ8T3OQ8n",
        "colab_type": "code",
        "outputId": "2a0a2b42-e1f7-49a2-e1d9-1532da10a335",
        "colab": {
          "base_uri": "https://localhost:8080/",
          "height": 1000
        }
      },
      "source": [
        "#Check the number of parameters\n",
        "use_cuda = torch.cuda.is_available()\n",
        "device = torch.device(\"cuda\" if use_cuda else \"cpu\")\n",
        "print(device)\n",
        "#My model\n",
        "#net = Net().to(device)\n",
        "\n",
        "#Resnet18 model\n",
        "net = ResNet18().to(device)\n",
        "summary(net, input_size=(3, 32, 32))"
      ],
      "execution_count": 5,
      "outputs": [
        {
          "output_type": "stream",
          "text": [
            "cuda\n",
            "----------------------------------------------------------------\n",
            "        Layer (type)               Output Shape         Param #\n",
            "================================================================\n",
            "            Conv2d-1           [-1, 64, 32, 32]           1,728\n",
            "       BatchNorm2d-2           [-1, 64, 32, 32]             128\n",
            "            Conv2d-3           [-1, 64, 32, 32]          36,864\n",
            "       BatchNorm2d-4           [-1, 64, 32, 32]             128\n",
            "            Conv2d-5           [-1, 64, 32, 32]          36,864\n",
            "       BatchNorm2d-6           [-1, 64, 32, 32]             128\n",
            "        BasicBlock-7           [-1, 64, 32, 32]               0\n",
            "            Conv2d-8           [-1, 64, 32, 32]          36,864\n",
            "       BatchNorm2d-9           [-1, 64, 32, 32]             128\n",
            "           Conv2d-10           [-1, 64, 32, 32]          36,864\n",
            "      BatchNorm2d-11           [-1, 64, 32, 32]             128\n",
            "       BasicBlock-12           [-1, 64, 32, 32]               0\n",
            "           Conv2d-13          [-1, 128, 16, 16]          73,728\n",
            "      BatchNorm2d-14          [-1, 128, 16, 16]             256\n",
            "           Conv2d-15          [-1, 128, 16, 16]         147,456\n",
            "      BatchNorm2d-16          [-1, 128, 16, 16]             256\n",
            "           Conv2d-17          [-1, 128, 16, 16]           8,192\n",
            "      BatchNorm2d-18          [-1, 128, 16, 16]             256\n",
            "       BasicBlock-19          [-1, 128, 16, 16]               0\n",
            "           Conv2d-20          [-1, 128, 16, 16]         147,456\n",
            "      BatchNorm2d-21          [-1, 128, 16, 16]             256\n",
            "           Conv2d-22          [-1, 128, 16, 16]         147,456\n",
            "      BatchNorm2d-23          [-1, 128, 16, 16]             256\n",
            "       BasicBlock-24          [-1, 128, 16, 16]               0\n",
            "           Conv2d-25            [-1, 256, 8, 8]         294,912\n",
            "      BatchNorm2d-26            [-1, 256, 8, 8]             512\n",
            "           Conv2d-27            [-1, 256, 8, 8]         589,824\n",
            "      BatchNorm2d-28            [-1, 256, 8, 8]             512\n",
            "           Conv2d-29            [-1, 256, 8, 8]          32,768\n",
            "      BatchNorm2d-30            [-1, 256, 8, 8]             512\n",
            "       BasicBlock-31            [-1, 256, 8, 8]               0\n",
            "           Conv2d-32            [-1, 256, 8, 8]         589,824\n",
            "      BatchNorm2d-33            [-1, 256, 8, 8]             512\n",
            "           Conv2d-34            [-1, 256, 8, 8]         589,824\n",
            "      BatchNorm2d-35            [-1, 256, 8, 8]             512\n",
            "       BasicBlock-36            [-1, 256, 8, 8]               0\n",
            "           Conv2d-37            [-1, 512, 4, 4]       1,179,648\n",
            "      BatchNorm2d-38            [-1, 512, 4, 4]           1,024\n",
            "           Conv2d-39            [-1, 512, 4, 4]       2,359,296\n",
            "      BatchNorm2d-40            [-1, 512, 4, 4]           1,024\n",
            "           Conv2d-41            [-1, 512, 4, 4]         131,072\n",
            "      BatchNorm2d-42            [-1, 512, 4, 4]           1,024\n",
            "       BasicBlock-43            [-1, 512, 4, 4]               0\n",
            "           Conv2d-44            [-1, 512, 4, 4]       2,359,296\n",
            "      BatchNorm2d-45            [-1, 512, 4, 4]           1,024\n",
            "           Conv2d-46            [-1, 512, 4, 4]       2,359,296\n",
            "      BatchNorm2d-47            [-1, 512, 4, 4]           1,024\n",
            "       BasicBlock-48            [-1, 512, 4, 4]               0\n",
            "           Linear-49                   [-1, 10]           5,130\n",
            "================================================================\n",
            "Total params: 11,173,962\n",
            "Trainable params: 11,173,962\n",
            "Non-trainable params: 0\n",
            "----------------------------------------------------------------\n",
            "Input size (MB): 0.01\n",
            "Forward/backward pass size (MB): 11.25\n",
            "Params size (MB): 42.63\n",
            "Estimated Total Size (MB): 53.89\n",
            "----------------------------------------------------------------\n"
          ],
          "name": "stdout"
        }
      ]
    },
    {
      "cell_type": "code",
      "metadata": {
        "id": "DaN45UFZxL69",
        "colab_type": "code",
        "outputId": "c39a2594-e1a9-4604-b80b-656419a6bf2c",
        "colab": {
          "base_uri": "https://localhost:8080/",
          "height": 1000
        }
      },
      "source": [
        "EPOCHS =40\n",
        "train_accuracy = []\n",
        "test_accuracy = []\n",
        "train_loss = []\n",
        "test_loss = []\n",
        "from torch.optim.lr_scheduler import StepLR \n",
        "\n",
        "#import CIFAR10 data. Perform Normalize, Batching through transforms.\n",
        "trainloader, testloader, classes = transform()\n",
        "\n",
        "criterion = nn.CrossEntropyLoss()\n",
        "# Optimum LR for custom_model = 0.015\n",
        "optimizer = optim.SGD(net.parameters(), lr=0.007, momentum=0.9, weight_decay=0.001)\n",
        "# scheduler = StepLR(optimizer, step_size=3, gamma=0.001)\n",
        "\n",
        "\n",
        "for epoch in range(EPOCHS):\n",
        "  print(\"epoch:\", epoch)\n",
        "  train_accuracy_delta, train_loss_delta = train(net, device, trainloader, optimizer, criterion, epoch)\n",
        "  test_accuracy_delta, test_loss_delta = test(net, device, testloader, criterion)\n",
        "  # scheduler.step()\n",
        "  train_accuracy.append(train_accuracy_delta)\n",
        "  train_loss.append(train_loss_delta)\n",
        "  test_accuracy.append(test_accuracy_delta)\n",
        "  test_loss.append(test_loss_delta)\n",
        "  \n",
        "print(\"Train Accuracy-\",train_accuracy)\n",
        "print(\"Test Accuracy-\",test_accuracy)\n",
        "\n",
        "print(\"Train loss-\",train_loss)\n",
        "print(\"Test loss-\",test_loss)\n",
        "train_test_metrics_graph(train_accuracy, train_loss, test_accuracy, test_loss)"
      ],
      "execution_count": 6,
      "outputs": [
        {
          "output_type": "stream",
          "text": [
            "Train set\n",
            "Files already downloaded and verified\n",
            "Test set\n",
            "Files already downloaded and verified\n",
            "epoch: 0\n",
            "[1,   300] loss: 0.270\n",
            "Epoch Train loss: 1.756485193509322         Epoch Train Accuracy: 35.326\n",
            "Epoch Test loss: 1.2588438082344924         Epoch Test Accuracy: 54.52\n",
            "epoch: 1\n",
            "[2,   300] loss: 0.209\n",
            "Epoch Train loss: 1.3638751849150046         Epoch Train Accuracy: 50.854\n",
            "Epoch Test loss: 0.9521561868583099         Epoch Test Accuracy: 66.53\n",
            "epoch: 2\n",
            "[3,   300] loss: 0.176\n",
            "Epoch Train loss: 1.159083728148387         Epoch Train Accuracy: 58.614\n",
            "Epoch Test loss: 0.8032711404788343         Epoch Test Accuracy: 71.95\n",
            "epoch: 3\n",
            "[4,   300] loss: 0.156\n",
            "Epoch Train loss: 1.0340666072490887         Epoch Train Accuracy: 63.404\n",
            "Epoch Test loss: 0.7406457768210882         Epoch Test Accuracy: 74.46\n",
            "epoch: 4\n",
            "[5,   300] loss: 0.143\n",
            "Epoch Train loss: 0.9502728268122062         Epoch Train Accuracy: 66.448\n",
            "Epoch Test loss: 0.6921757731256606         Epoch Test Accuracy: 75.51\n",
            "epoch: 5\n",
            "[6,   300] loss: 0.134\n",
            "Epoch Train loss: 0.8933940814091609         Epoch Train Accuracy: 68.542\n",
            "Epoch Test loss: 0.6403111321262166         Epoch Test Accuracy: 77.62\n",
            "epoch: 6\n",
            "[7,   300] loss: 0.126\n",
            "Epoch Train loss: 0.847032472720513         Epoch Train Accuracy: 70.158\n",
            "Epoch Test loss: 0.6278855740269528         Epoch Test Accuracy: 78.14\n",
            "epoch: 7\n",
            "[8,   300] loss: 0.121\n",
            "Epoch Train loss: 0.8113179836517725         Epoch Train Accuracy: 71.522\n",
            "Epoch Test loss: 0.5687185801282714         Epoch Test Accuracy: 80.07\n",
            "epoch: 8\n",
            "[9,   300] loss: 0.115\n",
            "Epoch Train loss: 0.7742539693147709         Epoch Train Accuracy: 72.732\n",
            "Epoch Test loss: 0.55340433158452         Epoch Test Accuracy: 80.48\n",
            "epoch: 9\n",
            "[10,   300] loss: 0.112\n",
            "Epoch Train loss: 0.7490642200677823         Epoch Train Accuracy: 73.646\n",
            "Epoch Test loss: 0.5233584827260126         Epoch Test Accuracy: 81.88\n",
            "epoch: 10\n",
            "[11,   300] loss: 0.108\n",
            "Epoch Train loss: 0.7213817843259909         Epoch Train Accuracy: 74.564\n",
            "Epoch Test loss: 0.5047380614884293         Epoch Test Accuracy: 82.51\n",
            "epoch: 11\n",
            "[12,   300] loss: 0.106\n",
            "Epoch Train loss: 0.7059713409497188         Epoch Train Accuracy: 75.008\n",
            "Epoch Test loss: 0.4863251647617243         Epoch Test Accuracy: 83.19\n",
            "epoch: 12\n",
            "[13,   300] loss: 0.101\n",
            "Epoch Train loss: 0.676287405918806         Epoch Train Accuracy: 76.36\n",
            "Epoch Test loss: 0.49134981669957123         Epoch Test Accuracy: 82.92\n",
            "epoch: 13\n",
            "[14,   300] loss: 0.099\n",
            "Epoch Train loss: 0.6615225752958884         Epoch Train Accuracy: 76.68\n",
            "Epoch Test loss: 0.47129141756250886         Epoch Test Accuracy: 83.57\n",
            "epoch: 14\n",
            "[15,   300] loss: 0.097\n",
            "Epoch Train loss: 0.6479653255297587         Epoch Train Accuracy: 77.088\n",
            "Epoch Test loss: 0.4579954947097392         Epoch Test Accuracy: 84.11\n",
            "epoch: 15\n",
            "[16,   300] loss: 0.094\n",
            "Epoch Train loss: 0.6270199094063197         Epoch Train Accuracy: 77.902\n",
            "Epoch Test loss: 0.46564603266836724         Epoch Test Accuracy: 83.83\n",
            "epoch: 16\n",
            "[17,   300] loss: 0.093\n",
            "Epoch Train loss: 0.62019292926177         Epoch Train Accuracy: 78.328\n",
            "Epoch Test loss: 0.45022036418130124         Epoch Test Accuracy: 84.31\n",
            "epoch: 17\n",
            "[18,   300] loss: 0.089\n",
            "Epoch Train loss: 0.5986643095047046         Epoch Train Accuracy: 79.044\n",
            "Epoch Test loss: 0.43822723702539373         Epoch Test Accuracy: 84.85\n",
            "epoch: 18\n",
            "[19,   300] loss: 0.088\n",
            "Epoch Train loss: 0.5906778583923976         Epoch Train Accuracy: 79.142\n",
            "Epoch Test loss: 0.43317848783505114         Epoch Test Accuracy: 84.92\n",
            "epoch: 19\n",
            "[20,   300] loss: 0.086\n",
            "Epoch Train loss: 0.5797253239613313         Epoch Train Accuracy: 79.556\n",
            "Epoch Test loss: 0.44356901434403434         Epoch Test Accuracy: 85.16\n",
            "epoch: 20\n",
            "[21,   300] loss: 0.084\n",
            "Epoch Train loss: 0.5639151729834385         Epoch Train Accuracy: 80.208\n",
            "Epoch Test loss: 0.43104586042935333         Epoch Test Accuracy: 84.98\n",
            "epoch: 21\n",
            "[22,   300] loss: 0.083\n",
            "Epoch Train loss: 0.5560868280056196         Epoch Train Accuracy: 80.362\n",
            "Epoch Test loss: 0.4274270879694178         Epoch Test Accuracy: 85.23\n",
            "epoch: 22\n",
            "[23,   300] loss: 0.082\n",
            "Epoch Train loss: 0.548255341175275         Epoch Train Accuracy: 80.624\n",
            "Epoch Test loss: 0.4434315139734292         Epoch Test Accuracy: 84.51\n",
            "epoch: 23\n",
            "[24,   300] loss: 0.080\n",
            "Epoch Train loss: 0.535228379873129         Epoch Train Accuracy: 81.062\n",
            "Epoch Test loss: 0.40385789188403115         Epoch Test Accuracy: 86.08\n",
            "epoch: 24\n",
            "[25,   300] loss: 0.078\n",
            "Epoch Train loss: 0.5241127601800821         Epoch Train Accuracy: 81.496\n",
            "Epoch Test loss: 0.41620505233354205         Epoch Test Accuracy: 85.64\n",
            "epoch: 25\n",
            "[26,   300] loss: 0.078\n",
            "Epoch Train loss: 0.5236493621881192         Epoch Train Accuracy: 81.78\n",
            "Epoch Test loss: 0.4120714802153503         Epoch Test Accuracy: 85.92\n",
            "epoch: 26\n",
            "[27,   300] loss: 0.075\n",
            "Epoch Train loss: 0.5049343215349393         Epoch Train Accuracy: 82.11\n",
            "Epoch Test loss: 0.4087942261484605         Epoch Test Accuracy: 86.0\n",
            "epoch: 27\n",
            "[28,   300] loss: 0.075\n",
            "Epoch Train loss: 0.5014785126233712         Epoch Train Accuracy: 82.384\n",
            "Epoch Test loss: 0.4124391927749296         Epoch Test Accuracy: 85.49\n",
            "epoch: 28\n",
            "[29,   300] loss: 0.074\n",
            "Epoch Train loss: 0.4963930157514719         Epoch Train Accuracy: 82.57\n",
            "Epoch Test loss: 0.3905276212888428         Epoch Test Accuracy: 86.58\n",
            "epoch: 29\n",
            "[30,   300] loss: 0.074\n",
            "Epoch Train loss: 0.4956378808388343         Epoch Train Accuracy: 82.56\n",
            "Epoch Test loss: 0.40132394470746         Epoch Test Accuracy: 86.21\n",
            "epoch: 30\n",
            "[31,   300] loss: 0.071\n",
            "Epoch Train loss: 0.481446624872012         Epoch Train Accuracy: 83.004\n",
            "Epoch Test loss: 0.3992952081976058         Epoch Test Accuracy: 86.4\n",
            "epoch: 31\n",
            "[32,   300] loss: 0.070\n",
            "Epoch Train loss: 0.46869430847657034         Epoch Train Accuracy: 83.594\n",
            "Epoch Test loss: 0.39204343587537355         Epoch Test Accuracy: 86.69\n",
            "epoch: 32\n",
            "[33,   300] loss: 0.068\n",
            "Epoch Train loss: 0.4609200060367584         Epoch Train Accuracy: 83.838\n",
            "Epoch Test loss: 0.3883627588990368         Epoch Test Accuracy: 86.53\n",
            "epoch: 33\n",
            "[34,   300] loss: 0.069\n",
            "Epoch Train loss: 0.4607763424897805         Epoch Train Accuracy: 83.8\n",
            "Epoch Test loss: 0.38918694589711444         Epoch Test Accuracy: 86.43\n",
            "epoch: 34\n",
            "[35,   300] loss: 0.068\n",
            "Epoch Train loss: 0.4546708422593581         Epoch Train Accuracy: 84.168\n",
            "Epoch Test loss: 0.3802520621426498         Epoch Test Accuracy: 87.24\n",
            "epoch: 35\n",
            "[36,   300] loss: 0.068\n",
            "Epoch Train loss: 0.45436193438676686         Epoch Train Accuracy: 83.81\n",
            "Epoch Test loss: 0.381072669089595         Epoch Test Accuracy: 86.69\n",
            "epoch: 36\n",
            "[37,   300] loss: 0.067\n",
            "Epoch Train loss: 0.44771829117567113         Epoch Train Accuracy: 84.096\n",
            "Epoch Test loss: 0.3769321758535844         Epoch Test Accuracy: 86.86\n",
            "epoch: 37\n",
            "[38,   300] loss: 0.064\n",
            "Epoch Train loss: 0.43648370947593296         Epoch Train Accuracy: 84.796\n",
            "Epoch Test loss: 0.3785258876749232         Epoch Test Accuracy: 87.17\n",
            "epoch: 38\n",
            "[39,   300] loss: 0.065\n",
            "Epoch Train loss: 0.440092352605783         Epoch Train Accuracy: 84.668\n",
            "Epoch Test loss: 0.37307581814784035         Epoch Test Accuracy: 87.09\n",
            "epoch: 39\n",
            "[40,   300] loss: 0.065\n",
            "Epoch Train loss: 0.43355457652837803         Epoch Train Accuracy: 84.716\n",
            "Epoch Test loss: 0.38393854019762597         Epoch Test Accuracy: 86.8\n",
            "Train Accuracy- [35.326, 50.854, 58.614, 63.404, 66.448, 68.542, 70.158, 71.522, 72.732, 73.646, 74.564, 75.008, 76.36, 76.68, 77.088, 77.902, 78.328, 79.044, 79.142, 79.556, 80.208, 80.362, 80.624, 81.062, 81.496, 81.78, 82.11, 82.384, 82.57, 82.56, 83.004, 83.594, 83.838, 83.8, 84.168, 83.81, 84.096, 84.796, 84.668, 84.716]\n",
            "Test Accuracy- [54.52, 66.53, 71.95, 74.46, 75.51, 77.62, 78.14, 80.07, 80.48, 81.88, 82.51, 83.19, 82.92, 83.57, 84.11, 83.83, 84.31, 84.85, 84.92, 85.16, 84.98, 85.23, 84.51, 86.08, 85.64, 85.92, 86.0, 85.49, 86.58, 86.21, 86.4, 86.69, 86.53, 86.43, 87.24, 86.69, 86.86, 87.17, 87.09, 86.8]\n",
            "Train loss- [1.756485193509322, 1.3638751849150046, 1.159083728148387, 1.0340666072490887, 0.9502728268122062, 0.8933940814091609, 0.847032472720513, 0.8113179836517725, 0.7742539693147709, 0.7490642200677823, 0.7213817843259909, 0.7059713409497188, 0.676287405918806, 0.6615225752958884, 0.6479653255297587, 0.6270199094063197, 0.62019292926177, 0.5986643095047046, 0.5906778583923976, 0.5797253239613313, 0.5639151729834385, 0.5560868280056196, 0.548255341175275, 0.535228379873129, 0.5241127601800821, 0.5236493621881192, 0.5049343215349393, 0.5014785126233712, 0.4963930157514719, 0.4956378808388343, 0.481446624872012, 0.46869430847657034, 0.4609200060367584, 0.4607763424897805, 0.4546708422593581, 0.45436193438676686, 0.44771829117567113, 0.43648370947593296, 0.440092352605783, 0.43355457652837803]\n",
            "Test loss- [1.2588438082344924, 0.9521561868583099, 0.8032711404788343, 0.7406457768210882, 0.6921757731256606, 0.6403111321262166, 0.6278855740269528, 0.5687185801282714, 0.55340433158452, 0.5233584827260126, 0.5047380614884293, 0.4863251647617243, 0.49134981669957123, 0.47129141756250886, 0.4579954947097392, 0.46564603266836724, 0.45022036418130124, 0.43822723702539373, 0.43317848783505114, 0.44356901434403434, 0.43104586042935333, 0.4274270879694178, 0.4434315139734292, 0.40385789188403115, 0.41620505233354205, 0.4120714802153503, 0.4087942261484605, 0.4124391927749296, 0.3905276212888428, 0.40132394470746, 0.3992952081976058, 0.39204343587537355, 0.3883627588990368, 0.38918694589711444, 0.3802520621426498, 0.381072669089595, 0.3769321758535844, 0.3785258876749232, 0.37307581814784035, 0.38393854019762597]\n"
          ],
          "name": "stdout"
        },
        {
          "output_type": "display_data",
          "data": {
            "image/png": "[encoded data removed]",
            "text/plain": [
              "<Figure size 1080x720 with 2 Axes>"
            ]
          },
          "metadata": {
            "tags": []
          }
        }
      ]
    },
    {
      "cell_type": "code",
      "metadata": {
        "id": "og0RWARu2nf5",
        "colab_type": "code",
        "colab": {}
      },
      "source": [
        "# CHeck the contents of the .py file.\n",
        "# %pycat metrics.py"
      ],
      "execution_count": 0,
      "outputs": []
    },
    {
      "cell_type": "markdown",
      "metadata": {
        "id": "U37CfO167Pgn",
        "colab_type": "text"
      },
      "source": [
        ""
      ]
    }
  ]
}